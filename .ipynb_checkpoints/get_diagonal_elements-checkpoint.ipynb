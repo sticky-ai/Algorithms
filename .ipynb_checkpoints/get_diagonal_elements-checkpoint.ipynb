{
 "cells": [
  {
   "cell_type": "markdown",
   "metadata": {},
   "source": [
    "# Get matrix diagonal"
   ]
  },
  {
   "cell_type": "markdown",
   "metadata": {},
   "source": [
    "## Define Matrix"
   ]
  },
  {
   "cell_type": "code",
   "execution_count": 23,
   "metadata": {},
   "outputs": [],
   "source": [
    "def get_matrix(n):\n",
    "    \"\"\"Define N*N Matrix\"\"\"\n",
    "    matrix = []\n",
    "    temp = []\n",
    "    for i in range(n * n):\n",
    "        temp.append(i)\n",
    "        if len(temp) == 5:\n",
    "            matrix.append(temp)\n",
    "            temp = []\n",
    "    return matrix"
   ]
  },
  {
   "cell_type": "code",
   "execution_count": 24,
   "metadata": {},
   "outputs": [
    {
     "data": {
      "text/plain": [
       "[[0, 1, 2, 3, 4],\n",
       " [5, 6, 7, 8, 9],\n",
       " [10, 11, 12, 13, 14],\n",
       " [15, 16, 17, 18, 19],\n",
       " [20, 21, 22, 23, 24]]"
      ]
     },
     "execution_count": 24,
     "metadata": {},
     "output_type": "execute_result"
    }
   ],
   "source": [
    "m = get_matrix(5)\n",
    "m"
   ]
  },
  {
   "cell_type": "markdown",
   "metadata": {},
   "source": [
    "## Get left top to right bottom elements"
   ]
  },
  {
   "cell_type": "code",
   "execution_count": 25,
   "metadata": {},
   "outputs": [
    {
     "data": {
      "text/plain": [
       "[0, 6, 12, 18, 24]"
      ]
     },
     "execution_count": 25,
     "metadata": {},
     "output_type": "execute_result"
    }
   ],
   "source": [
    "def get_diag(m):\n",
    "    return [m[i][i] for i in range(len(m))]\n",
    "\n",
    "diag = get_diag(m)\n",
    "diag"
   ]
  },
  {
   "cell_type": "markdown",
   "metadata": {},
   "source": [
    "## Get right top to left bottom elements"
   ]
  },
  {
   "cell_type": "code",
   "execution_count": 26,
   "metadata": {},
   "outputs": [
    {
     "data": {
      "text/plain": [
       "[4, 8, 12, 16, 20]"
      ]
     },
     "execution_count": 26,
     "metadata": {},
     "output_type": "execute_result"
    }
   ],
   "source": [
    "def get_diag_reverse(m):\n",
    "    return [m[idx][i] for idx, i in enumerate(range(len(m)-1, -1, -1))]\n",
    "\n",
    "diag_rev = get_diag_reverse(m)\n",
    "diag_rev"
   ]
  },
  {
   "cell_type": "markdown",
   "metadata": {},
   "source": [
    "## Get diagonal elements with initialized x, y position"
   ]
  },
  {
   "cell_type": "code",
   "execution_count": 46,
   "metadata": {},
   "outputs": [],
   "source": [
    "def get_pos_diag(m, x, y):\n",
    "    l = len(m)\n",
    "    e = set()\n",
    "    for i in range(l):\n",
    "        if x+i < l and y+i < l:\n",
    "            e.add(m[x+i][y+i])\n",
    "        if x-i >= 0 and y-i >=0:\n",
    "            e.add(m[x-i][y-i])\n",
    "    return sorted(list(e))"
   ]
  },
  {
   "cell_type": "code",
   "execution_count": 47,
   "metadata": {},
   "outputs": [
    {
     "data": {
      "text/plain": [
       "[1, 7, 13, 19]"
      ]
     },
     "execution_count": 47,
     "metadata": {},
     "output_type": "execute_result"
    }
   ],
   "source": [
    "# (2, 0) (1, 1) (0, 2)\n",
    "get_pos_diag(m, 2, 3)"
   ]
  },
  {
   "cell_type": "code",
   "execution_count": 54,
   "metadata": {},
   "outputs": [],
   "source": [
    "def get_pos_diag_reverse(m, x, y):\n",
    "    l = len(m)\n",
    "    e = set()\n",
    "    for i in range(l):\n",
    "        if x+i < l and y-i >=0:\n",
    "            e.add(m[x+i][y-i])\n",
    "        if x-i >= 0 and y+i < l:\n",
    "            e.add(m[x-i][y+i])\n",
    "    return sorted(list(e))"
   ]
  },
  {
   "cell_type": "code",
   "execution_count": 56,
   "metadata": {},
   "outputs": [
    {
     "data": {
      "text/plain": [
       "[9, 13, 17, 21]"
      ]
     },
     "execution_count": 56,
     "metadata": {},
     "output_type": "execute_result"
    }
   ],
   "source": [
    "get_pos_diag_reverse(m, 2, 3)"
   ]
  }
 ],
 "metadata": {
  "kernelspec": {
   "display_name": "Python 3",
   "language": "python",
   "name": "python3"
  },
  "language_info": {
   "codemirror_mode": {
    "name": "ipython",
    "version": 3
   },
   "file_extension": ".py",
   "mimetype": "text/x-python",
   "name": "python",
   "nbconvert_exporter": "python",
   "pygments_lexer": "ipython3",
   "version": "3.6.4"
  }
 },
 "nbformat": 4,
 "nbformat_minor": 2
}
