{
 "cells": [
  {
   "cell_type": "code",
   "execution_count": 4,
   "metadata": {},
   "outputs": [],
   "source": [
    "import numpy as np"
   ]
  },
  {
   "cell_type": "markdown",
   "metadata": {},
   "source": [
    "# Define matrix"
   ]
  },
  {
   "cell_type": "code",
   "execution_count": 26,
   "metadata": {},
   "outputs": [],
   "source": [
    "def get_matrix(n):\n",
    "    \"\"\"Define N*N Matrix\"\"\"\n",
    "    matrix = []\n",
    "    temp = []\n",
    "    for i in range(n * n):\n",
    "        temp.append(i)\n",
    "        if len(temp) == n:\n",
    "            matrix.append(temp)\n",
    "            temp = []\n",
    "    return matrix"
   ]
  },
  {
   "cell_type": "code",
   "execution_count": 27,
   "metadata": {},
   "outputs": [
    {
     "data": {
      "text/plain": [
       "[[0, 1, 2], [3, 4, 5], [6, 7, 8]]"
      ]
     },
     "execution_count": 27,
     "metadata": {},
     "output_type": "execute_result"
    }
   ],
   "source": [
    "m = get_matrix(3)\n",
    "m"
   ]
  },
  {
   "cell_type": "markdown",
   "metadata": {},
   "source": [
    "# Get N * N submatrix"
   ]
  },
  {
   "cell_type": "code",
   "execution_count": 28,
   "metadata": {},
   "outputs": [],
   "source": [
    "new_mat = np.asarray(m)\n",
    "cLen, rLen = 2, 2"
   ]
  },
  {
   "cell_type": "code",
   "execution_count": 29,
   "metadata": {},
   "outputs": [
    {
     "data": {
      "text/plain": [
       "array([[0, 1, 2],\n",
       "       [3, 4, 5],\n",
       "       [6, 7, 8]])"
      ]
     },
     "execution_count": 29,
     "metadata": {},
     "output_type": "execute_result"
    }
   ],
   "source": [
    "new_mat"
   ]
  },
  {
   "cell_type": "code",
   "execution_count": 30,
   "metadata": {},
   "outputs": [
    {
     "data": {
      "text/plain": [
       "array([[0, 1],\n",
       "       [3, 4]])"
      ]
     },
     "execution_count": 30,
     "metadata": {},
     "output_type": "execute_result"
    }
   ],
   "source": [
    "new_mat[0:rLen, 0:cLen]"
   ]
  },
  {
   "cell_type": "code",
   "execution_count": 31,
   "metadata": {},
   "outputs": [
    {
     "name": "stdout",
     "output_type": "stream",
     "text": [
      "Row num :  0\n",
      "[[0 1]\n",
      " [3 4]]\n",
      "[[1 2]\n",
      " [4 5]]\n",
      "==\n",
      "Row num :  1\n",
      "[[3 4]\n",
      " [6 7]]\n",
      "[[4 5]\n",
      " [7 8]]\n",
      "==\n"
     ]
    }
   ],
   "source": [
    "for r in range(len(new_mat) - rLen + 1):\n",
    "    print('Row num : ', r)\n",
    "    for c in range(len(new_mat[0]) - cLen + 1):\n",
    "        print(new_mat[r:r+rLen, c:c+cLen])\n",
    "    print('==')"
   ]
  },
  {
   "cell_type": "markdown",
   "metadata": {},
   "source": [
    "# Get diagonal"
   ]
  },
  {
   "cell_type": "markdown",
   "metadata": {},
   "source": [
    "### Get left top to right bottom elements"
   ]
  },
  {
   "cell_type": "code",
   "execution_count": 25,
   "metadata": {},
   "outputs": [
    {
     "data": {
      "text/plain": [
       "[0, 6, 12, 18, 24]"
      ]
     },
     "execution_count": 25,
     "metadata": {},
     "output_type": "execute_result"
    }
   ],
   "source": [
    "def get_diag(m):\n",
    "    return [m[i][i] for i in range(len(m))]\n",
    "\n",
    "diag = get_diag(m)\n",
    "diag"
   ]
  },
  {
   "cell_type": "markdown",
   "metadata": {},
   "source": [
    "### Get right top to left bottom elements"
   ]
  },
  {
   "cell_type": "code",
   "execution_count": 26,
   "metadata": {},
   "outputs": [
    {
     "data": {
      "text/plain": [
       "[4, 8, 12, 16, 20]"
      ]
     },
     "execution_count": 26,
     "metadata": {},
     "output_type": "execute_result"
    }
   ],
   "source": [
    "def get_diag_reverse(m):\n",
    "    return [m[idx][i] for idx, i in enumerate(range(len(m)-1, -1, -1))]\n",
    "\n",
    "diag_rev = get_diag_reverse(m)\n",
    "diag_rev"
   ]
  },
  {
   "cell_type": "markdown",
   "metadata": {},
   "source": [
    "### Get diagonal elements with initialized x, y position"
   ]
  },
  {
   "cell_type": "code",
   "execution_count": 46,
   "metadata": {},
   "outputs": [],
   "source": [
    "def get_pos_diag(m, x, y):\n",
    "    l = len(m)\n",
    "    e = set()\n",
    "    for i in range(l):\n",
    "        if x+i < l and y+i < l:\n",
    "            e.add(m[x+i][y+i])\n",
    "        if x-i >= 0 and y-i >=0:\n",
    "            e.add(m[x-i][y-i])\n",
    "    return sorted(list(e))"
   ]
  },
  {
   "cell_type": "code",
   "execution_count": 47,
   "metadata": {},
   "outputs": [
    {
     "data": {
      "text/plain": [
       "[1, 7, 13, 19]"
      ]
     },
     "execution_count": 47,
     "metadata": {},
     "output_type": "execute_result"
    }
   ],
   "source": [
    "# (2, 0) (1, 1) (0, 2)\n",
    "get_pos_diag(m, 2, 3)"
   ]
  },
  {
   "cell_type": "code",
   "execution_count": 54,
   "metadata": {},
   "outputs": [],
   "source": [
    "def get_pos_diag_reverse(m, x, y):\n",
    "    l = len(m)\n",
    "    e = set()\n",
    "    for i in range(l):\n",
    "        if x+i < l and y-i >=0:\n",
    "            e.add(m[x+i][y-i])\n",
    "        if x-i >= 0 and y+i < l:\n",
    "            e.add(m[x-i][y+i])\n",
    "    return sorted(list(e))"
   ]
  },
  {
   "cell_type": "code",
   "execution_count": 56,
   "metadata": {},
   "outputs": [
    {
     "data": {
      "text/plain": [
       "[9, 13, 17, 21]"
      ]
     },
     "execution_count": 56,
     "metadata": {},
     "output_type": "execute_result"
    }
   ],
   "source": [
    "get_pos_diag_reverse(m, 2, 3)"
   ]
  }
 ],
 "metadata": {
  "kernelspec": {
   "display_name": "Python 3",
   "language": "python",
   "name": "python3"
  },
  "language_info": {
   "codemirror_mode": {
    "name": "ipython",
    "version": 3
   },
   "file_extension": ".py",
   "mimetype": "text/x-python",
   "name": "python",
   "nbconvert_exporter": "python",
   "pygments_lexer": "ipython3",
   "version": "3.6.4"
  }
 },
 "nbformat": 4,
 "nbformat_minor": 2
}
